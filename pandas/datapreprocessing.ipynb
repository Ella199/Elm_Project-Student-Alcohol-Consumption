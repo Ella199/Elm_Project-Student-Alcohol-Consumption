{
 "cells": [
  {
   "cell_type": "code",
   "execution_count": 1,
   "metadata": {},
   "outputs": [],
   "source": [
    "import pandas as pd"
   ]
  },
  {
   "cell_type": "code",
   "execution_count": 126,
   "metadata": {},
   "outputs": [],
   "source": [
    "df = pd.read_csv(r\"/Users/arselaleskaj/Desktop/mergedstudent_FINAL_NaN.csv\", sep=',')"
   ]
  },
  {
   "cell_type": "code",
   "execution_count": 127,
   "metadata": {},
   "outputs": [
    {
     "data": {
      "text/plain": [
       "['Unnamed: 0',\n",
       " 'school',\n",
       " 'sex',\n",
       " 'age',\n",
       " 'address',\n",
       " 'famsize',\n",
       " 'Pstatus',\n",
       " 'Medu',\n",
       " 'Fedu',\n",
       " 'Mjob',\n",
       " 'Fjob',\n",
       " 'reason',\n",
       " 'nursery',\n",
       " 'internet',\n",
       " 'guardian',\n",
       " 'traveltime',\n",
       " 'studytime',\n",
       " 'failures',\n",
       " 'schoolsup',\n",
       " 'famsup',\n",
       " 'paid',\n",
       " 'activities',\n",
       " 'higher',\n",
       " 'romantic',\n",
       " 'famrel',\n",
       " 'freetime',\n",
       " 'goout',\n",
       " 'Dalc',\n",
       " 'Walc',\n",
       " 'health',\n",
       " 'absences',\n",
       " 'firstperiodGradeMath',\n",
       " 'secondperiodGradeMath',\n",
       " 'thirdperiodGradeMath',\n",
       " 'firstperiodGradePort',\n",
       " 'secondperiodGradePort',\n",
       " 'thirdperiodGradePort']"
      ]
     },
     "execution_count": 127,
     "metadata": {},
     "output_type": "execute_result"
    }
   ],
   "source": [
    "df.columns.values.tolist()"
   ]
  },
  {
   "cell_type": "code",
   "execution_count": 132,
   "metadata": {},
   "outputs": [],
   "source": [
    "f=df.rename(columns={\"G1.x\": \"firstperiodGradeMath\", \"G2.x\": \"secondperiodGradeMath\", \"G3.x\": \"thirdperiodGradeMath\", \"G1.y\": \"firstperiodGradePort\", \"G2.y\": \"secondperiodGradePort\", \"G3.y\": \"thirdperiodGradePort\", \"guardian.x\": \"guardian\", \"traveltime.x\": \"traveltime\", \"studytime.x\": \"studytime\", \"failures.x\": \"failures\", \"schoolsup.x\": \"schoolsup\", \"famsup.x\": \"famsup\", \"paid.x\": \"paid\", \"activities.x\": \"activities\", \"higher.x\": \"higher\", \"romantic.x\": \"romantic\", \"famrel.x\": \"famrel\", \"freetime.x\": \"freetime\", \"goout.x\": \"goout\", \"Dalc.x\": \"dalc\", \"Walc.x\": \"walc\", \"health.x\": \"health\", \"absences.x\": \"absences\"})"
   ]
  },
  {
   "cell_type": "code",
   "execution_count": 133,
   "metadata": {},
   "outputs": [],
   "source": [
    "df.to_csv(r\"/Users/arselaleskaj/Documents/GitHub/Elm_Project-Student-Alcohol-Consumption/Data/Excel_Data/mergedstudent_FINAL_NaN.csv\",sep=\",\")"
   ]
  },
  {
   "cell_type": "code",
   "execution_count": 139,
   "metadata": {},
   "outputs": [
    {
     "data": {
      "text/plain": [
       "numpy.int64"
      ]
     },
     "execution_count": 139,
     "metadata": {},
     "output_type": "execute_result"
    }
   ],
   "source": [
    "type(df[\"Dalc\"][2])"
   ]
  }
 ],
 "metadata": {
  "interpreter": {
   "hash": "aee8b7b246df8f9039afb4144a1f6fd8d2ca17a180786b69acc140d282b71a49"
  },
  "kernelspec": {
   "display_name": "Python 3.10.5 64-bit",
   "name": "python3"
  },
  "language_info": {
   "codemirror_mode": {
    "name": "ipython",
    "version": 3
   },
   "file_extension": ".py",
   "mimetype": "text/x-python",
   "name": "python",
   "nbconvert_exporter": "python",
   "pygments_lexer": "ipython3",
   "version": "3.10.5"
  },
  "orig_nbformat": 4,
  "vscode": {
   "interpreter": {
    "hash": "58e15c63a52ef4a1f4a6c82bef7b6b9fd0dd33ef33ca68076a24a2c0ba593e42"
   }
  }
 },
 "nbformat": 4,
 "nbformat_minor": 2
}
